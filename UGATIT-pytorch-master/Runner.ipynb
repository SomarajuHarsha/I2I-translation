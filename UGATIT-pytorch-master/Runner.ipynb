{
 "cells": [
  {
   "cell_type": "code",
   "execution_count": 1,
   "id": "23794d25",
   "metadata": {},
   "outputs": [
    {
     "name": "stdout",
     "output_type": "stream",
     "text": [
      "number of epochs must be larger than or equal to one\n",
      "\n",
      "##### Information #####\n",
      "# light :  False\n",
      "# dataset :  selfie2anime\n",
      "# batch_size :  1\n",
      "# iteration per epoch :  1000000\n",
      "\n",
      "##### Generator #####\n",
      "# residual blocks :  4\n",
      "\n",
      "##### Discriminator #####\n",
      "# discriminator layer :  6\n",
      "\n",
      "##### Weight #####\n",
      "# adv_weight :  1\n",
      "# cycle_weight :  10\n",
      "# identity_weight :  10\n",
      "# cam_weight :  1000\n"
     ]
    },
    {
     "name": "stderr",
     "output_type": "stream",
     "text": [
      "Traceback (most recent call last):\n",
      "  File \"main.py\", line 83, in <module>\n",
      "    main()\n",
      "  File \"main.py\", line 72, in main\n",
      "    gan.build_model()\n",
      "  File \"C:\\Users\\sriha\\OneDrive\\Desktop\\Research\\I2I translation\\UGATIT-pytorch-master\\UGATIT.py\", line 111, in build_model\n",
      "    self.genB2A = ResnetGenerator(input_nc=3, output_nc=3, ngf=self.ch, n_blocks=self.n_res, img_size=self.img_size, light=self.light).to(self.device)\n",
      "  File \"C:\\Users\\sriha\\Anaconda3\\lib\\site-packages\\torch\\nn\\modules\\module.py\", line 607, in to\n",
      "    return self._apply(convert)\n",
      "  File \"C:\\Users\\sriha\\Anaconda3\\lib\\site-packages\\torch\\nn\\modules\\module.py\", line 354, in _apply\n",
      "    module._apply(fn)\n",
      "  File \"C:\\Users\\sriha\\Anaconda3\\lib\\site-packages\\torch\\nn\\modules\\module.py\", line 354, in _apply\n",
      "    module._apply(fn)\n",
      "  File \"C:\\Users\\sriha\\Anaconda3\\lib\\site-packages\\torch\\nn\\modules\\module.py\", line 376, in _apply\n",
      "    param_applied = fn(param)\n",
      "  File \"C:\\Users\\sriha\\Anaconda3\\lib\\site-packages\\torch\\nn\\modules\\module.py\", line 605, in convert\n",
      "    return t.to(device, dtype if t.is_floating_point() else None, non_blocking)\n",
      "RuntimeError: CUDA out of memory. Tried to allocate 1024.00 MiB (GPU 0; 2.00 GiB total capacity; 1.08 GiB already allocated; 281.44 MiB free; 1.08 GiB reserved in total by PyTorch)\n"
     ]
    }
   ],
   "source": [
    "!python main.py --dataset selfie2anime"
   ]
  },
  {
   "cell_type": "code",
   "execution_count": null,
   "id": "b7f9abff",
   "metadata": {},
   "outputs": [],
   "source": []
  }
 ],
 "metadata": {
  "kernelspec": {
   "display_name": "Python 3",
   "language": "python",
   "name": "python3"
  },
  "language_info": {
   "codemirror_mode": {
    "name": "ipython",
    "version": 3
   },
   "file_extension": ".py",
   "mimetype": "text/x-python",
   "name": "python",
   "nbconvert_exporter": "python",
   "pygments_lexer": "ipython3",
   "version": "3.7.4"
  }
 },
 "nbformat": 4,
 "nbformat_minor": 5
}
